{
 "cells": [
  {
   "cell_type": "markdown",
   "id": "3a87b91c-99ff-408b-a639-a2142b817501",
   "metadata": {},
   "source": [
    "# IMPORTANT**\n",
    "You have to run the cell below first before you are able to run the block that collects the data\n"
   ]
  },
  {
   "cell_type": "code",
   "execution_count": 1,
   "id": "67d15b88-fa57-46ac-8fc0-906abc933883",
   "metadata": {},
   "outputs": [
    {
     "data": {
      "text/plain": [
       "True"
      ]
     },
     "execution_count": 1,
     "metadata": {},
     "output_type": "execute_result"
    }
   ],
   "source": [
    "from dotenv import load_dotenv\n",
    "import os\n",
    "\n",
    "load_dotenv()\n"
   ]
  },
  {
   "cell_type": "code",
   "execution_count": 3,
   "id": "66820af5-b7f9-4397-a85b-30475bd040a3",
   "metadata": {},
   "outputs": [
    {
     "name": "stdout",
     "output_type": "stream",
     "text": [
      "Fetched 1000 posts from r/stocks\n",
      "Fetched 1000 posts from r/stockstobuytoday\n",
      "Fetched 261 posts from r/stocksandtrading\n",
      "Fetched 1000 posts from r/wallstreetbets\n",
      "Fetched 1000 posts from r/options\n",
      "Fetched 999 posts from r/pennystocks\n",
      "Fetched 1000 posts from r/investing\n",
      "Fetched 1000 posts from r/stockmarket\n",
      "Fetched 400 posts from r/robinhood\n",
      "Fetched 476 posts from r/fidelity\n",
      "Fetched 125 posts from r/finance\n",
      "Fetched 1000 posts from r/economics\n",
      "Fetched 1000 posts from r/personalfinance\n",
      "All data saved to: reddit_posts_combined_20250423_140014.csv\n"
     ]
    }
   ],
   "source": [
    "import praw\n",
    "import pandas as pd\n",
    "import datetime\n",
    "from dotenv import load_dotenv\n",
    "import os\n",
    "\n",
    "# Load the .env file\n",
    "load_dotenv()\n",
    "\n",
    "reddit = praw.Reddit(\n",
    "    client_id=os.getenv('REDDIT_CLIENT_ID'),\n",
    "    client_secret=os.getenv('REDDIT_CLIENT_SECRET'),\n",
    "    user_agent=os.getenv('REDDIT_USER_AGENT')\n",
    ")\n",
    "\n",
    "# === Function to fetch posts from a subreddit ===\n",
    "def fetch_reddit_posts(subreddit_name, max_posts=1000, time_filter='year'):\n",
    "    \"\"\"\n",
    "    Fetches top Reddit posts from a subreddit.\n",
    "\n",
    "    Parameters:\n",
    "        subreddit_name (str): Name of the subreddit.\n",
    "        max_posts (int): Number of posts to fetch (up to 1000).\n",
    "        time_filter (str): 'all', 'year', 'month', 'week', 'day', 'hour'.\n",
    "\n",
    "    Returns:\n",
    "        DataFrame: Posts from the subreddit.\n",
    "    \"\"\"\n",
    "    subreddit = reddit.subreddit(subreddit_name)\n",
    "    posts = []\n",
    "\n",
    "    for submission in subreddit.top(limit=max_posts, time_filter=time_filter):\n",
    "        created_utc = datetime.datetime.fromtimestamp(submission.created_utc)\n",
    "        posts.append({\n",
    "            \"subreddit\": subreddit_name,\n",
    "            \"id\": submission.id,\n",
    "            \"title\": submission.title,\n",
    "            \"author\": str(submission.author),\n",
    "            \"score\": submission.score,\n",
    "            \"num_comments\": submission.num_comments,\n",
    "            \"created_utc\": created_utc,\n",
    "            \"selftext\": submission.selftext,\n",
    "            \"url\": submission.url,\n",
    "            \"permalink\": f\"https://reddit.com{submission.permalink}\"\n",
    "        })\n",
    "\n",
    "    print(f\"Fetched {len(posts)} posts from r/{subreddit_name}\")\n",
    "    return pd.DataFrame(posts)\n",
    "\n",
    "\n",
    "# === Parameters ===\n",
    "subreddits = [\"stocks\", \n",
    "              \"stockstobuytoday\", \n",
    "              \"stocksandtrading\", \n",
    "              \"wallstreetbets\", \n",
    "              \"options\",\n",
    "              \"pennystocks\",\n",
    "              \"investing\",\n",
    "              \"stockmarket\",\n",
    "              \"robinhood\",\n",
    "              \"fidelity\",\n",
    "              \"finance\",\n",
    "              \"economics\",\n",
    "              \"personalfinance\"\n",
    "             ]\n",
    "max_posts_per_subreddit = 1000\n",
    "time_filter = \"year\"  # Options: 'all', 'year', 'month', 'week', 'day', 'hour'\n",
    "\n",
    "# === Fetch all posts and combine ===\n",
    "all_posts_df = pd.concat(\n",
    "    [fetch_reddit_posts(sub, max_posts=max_posts_per_subreddit, time_filter=time_filter) for sub in subreddits],\n",
    "    ignore_index=True\n",
    ")\n",
    "\n",
    "# === Save to CSV ===\n",
    "timestamp = datetime.datetime.now().strftime(\"%Y%m%d_%H%M%S\")\n",
    "csv_filename = f\"reddit_posts_combined_{timestamp}.csv\"\n",
    "all_posts_df.to_csv(csv_filename, index=False)\n",
    "print(f\"All data saved to: {csv_filename}\")\n"
   ]
  },
  {
   "cell_type": "code",
   "execution_count": null,
   "id": "14d9828c-27f4-4d0f-a9ae-c4e0c860fc44",
   "metadata": {},
   "outputs": [],
   "source": []
  }
 ],
 "metadata": {
  "kernelspec": {
   "display_name": "Python 3 (ipykernel)",
   "language": "python",
   "name": "python3"
  },
  "language_info": {
   "codemirror_mode": {
    "name": "ipython",
    "version": 3
   },
   "file_extension": ".py",
   "mimetype": "text/x-python",
   "name": "python",
   "nbconvert_exporter": "python",
   "pygments_lexer": "ipython3",
   "version": "3.12.4"
  }
 },
 "nbformat": 4,
 "nbformat_minor": 5
}
